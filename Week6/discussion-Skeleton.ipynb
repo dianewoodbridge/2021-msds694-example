{
 "cells": [
  {
   "cell_type": "code",
   "execution_count": null,
   "metadata": {},
   "outputs": [],
   "source": [
    "from pyspark.sql import SparkSession\n",
    "from pysparkling import *\n",
    "import h2o\n",
    "\n",
    "ss = SparkSession.builder.getOrCreate()\n",
    "hc = H2OContext.getOrCreate()"
   ]
  },
  {
   "cell_type": "markdown",
   "metadata": {},
   "source": [
    "## Mute the progress bar"
   ]
  },
  {
   "cell_type": "code",
   "execution_count": null,
   "metadata": {},
   "outputs": [],
   "source": []
  },
  {
   "cell_type": "code",
   "execution_count": null,
   "metadata": {},
   "outputs": [],
   "source": [
    "adult_train_df = ss.read.parquet(\"../Data/spark-warehouse/adulttrain\")\n",
    "adult_train_h2o = hc.asH2OFrame(adult_train_df, \"adult_train\")\n",
    "adult_train_h2o[\"label\"] = adult_train_h2o[\"label\"].asfactor()\n",
    "\n",
    "adult_valid_df = ss.read.parquet(\"../Data/spark-warehouse/adultvalid\")\n",
    "adult_valid_h2o = hc.asH2OFrame(adult_valid_df, \"adult_valid\")\n",
    "adult_valid_h2o[\"label\"] = adult_valid_h2o[\"label\"].asfactor()\n",
    "\n",
    "predictors = adult_valid_h2o.names[:]\n",
    "response = \"label\"\n",
    "predictors.remove(response)"
   ]
  },
  {
   "cell_type": "markdown",
   "metadata": {},
   "source": [
    "## AutoML - max_models = 3"
   ]
  },
  {
   "cell_type": "code",
   "execution_count": null,
   "metadata": {},
   "outputs": [],
   "source": [
    "from h2o.automl import H2OAutoML\n",
    "model_automl = H2OAutoML(max_models = , seed = 1, nfolds = 5) # seed : Set a seed for reproducibility\n",
    "model_automl.train(x=predictors,\n",
    "                   y=response,\n",
    "                   training_frame=adult_train_h2o,\n",
    "                   validation_frame=adult_valid_h2o)"
   ]
  },
  {
   "cell_type": "markdown",
   "metadata": {},
   "source": [
    "## Return the best model's performance"
   ]
  },
  {
   "cell_type": "code",
   "execution_count": null,
   "metadata": {},
   "outputs": [],
   "source": []
  }
 ],
 "metadata": {
  "kernelspec": {
   "display_name": "Python 3",
   "language": "python",
   "name": "python3"
  },
  "language_info": {
   "codemirror_mode": {
    "name": "ipython",
    "version": 3
   },
   "file_extension": ".py",
   "mimetype": "text/x-python",
   "name": "python",
   "nbconvert_exporter": "python",
   "pygments_lexer": "ipython3",
   "version": "3.8.2"
  },
  "varInspector": {
   "cols": {
    "lenName": 16,
    "lenType": 16,
    "lenVar": 40
   },
   "kernels_config": {
    "python": {
     "delete_cmd_postfix": "",
     "delete_cmd_prefix": "del ",
     "library": "var_list.py",
     "varRefreshCmd": "print(var_dic_list())"
    },
    "r": {
     "delete_cmd_postfix": ") ",
     "delete_cmd_prefix": "rm(",
     "library": "var_list.r",
     "varRefreshCmd": "cat(var_dic_list()) "
    }
   },
   "types_to_exclude": [
    "module",
    "function",
    "builtin_function_or_method",
    "instance",
    "_Feature"
   ],
   "window_display": false
  }
 },
 "nbformat": 4,
 "nbformat_minor": 4
}
